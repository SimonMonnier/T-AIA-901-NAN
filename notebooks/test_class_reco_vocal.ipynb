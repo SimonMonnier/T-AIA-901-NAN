{
 "cells": [
  {
   "attachments": {},
   "cell_type": "markdown",
   "metadata": {},
   "source": [
    "## Import Directory to use Class"
   ]
  },
  {
   "cell_type": "code",
   "execution_count": 1,
   "metadata": {},
   "outputs": [],
   "source": [
    "import sys\n",
    "sys.path.insert(0, \"../ui\")"
   ]
  },
  {
   "cell_type": "code",
   "execution_count": 7,
   "metadata": {},
   "outputs": [],
   "source": [
    "from reco_vocal import Reco_vocal"
   ]
  },
  {
   "attachments": {},
   "cell_type": "markdown",
   "metadata": {},
   "source": [
    "## Initialize Module"
   ]
  },
  {
   "cell_type": "code",
   "execution_count": 8,
   "metadata": {},
   "outputs": [],
   "source": [
    "recoVocal = Reco_vocal()"
   ]
  },
  {
   "cell_type": "code",
   "execution_count": 9,
   "metadata": {},
   "outputs": [],
   "source": [
    "recoVocal.train()"
   ]
  },
  {
   "attachments": {},
   "cell_type": "markdown",
   "metadata": {},
   "source": [
    "## Show metrics of module trained"
   ]
  },
  {
   "cell_type": "code",
   "execution_count": 10,
   "metadata": {},
   "outputs": [
    {
     "name": "stdout",
     "output_type": "stream",
     "text": [
      "[[177   0   0   0   0   0   0   0   0   0   0   0   4   0   0   0   1]\n",
      " [  0 129   0   0   1   1   0   0   1   0   0   0   2   0   5   0   0]\n",
      " [  0   0 179   0   1   0   0   0   0   0   0   0   4   3   0   0   0]\n",
      " [  0   0   0 480   0   0   0   0   0   0   0   0   5   1   0   0   0]\n",
      " [  0   0   1   0 334   0   0   0   1   0   0   0   3   1   0   0   0]\n",
      " [  0   1   0   0   0 143   0   0   0   0   0   0   3   0   0   0   0]\n",
      " [  0   0   0   1   0   0 107   0   0   0   0   0   4   0   0   0   0]\n",
      " [  0   0   0   0   0   0   0  20   0   0   0   0   0   0   0   0   0]\n",
      " [  0   1   0   0   0   0   0   0 231   0   0   0   3   2   0   0   0]\n",
      " [  0   0   0   0   0   0   0   0   0 107   0   0   2   0   0   0   0]\n",
      " [  0   0   0   1   0   0   0   0   0   0 195   0   4   0   0   0   0]\n",
      " [  0   0   0   1   0   0   0   0   0   0   0 231   5   4   0   0   0]\n",
      " [  0   0   0   0   0   0   0   0   0   0   0   0 217   0   0   0   0]\n",
      " [  0   0   0   0   1   0   0   0   0   0   0   1   5 262   0   0   0]\n",
      " [  0   3   0   2   0   0   0   0   0   0   0   0   4   0 206   0   0]\n",
      " [  0   0   0   0   0   0   0   0   0   0   0   0   3   0   0 152   0]\n",
      " [  0   0   0   0   2   0   0   0   0   0   0   0   6   1   0   0 147]]\n",
      "\n",
      "\n",
      "\n",
      "              precision    recall  f1-score   support\n",
      "\n",
      "      Arabic       1.00      0.97      0.99       182\n",
      "      Danish       0.96      0.93      0.95       139\n",
      "       Dutch       0.99      0.96      0.98       187\n",
      "     English       0.99      0.99      0.99       486\n",
      "      French       0.99      0.98      0.98       340\n",
      "      German       0.99      0.97      0.98       147\n",
      "       Greek       1.00      0.96      0.98       112\n",
      "       Hindi       1.00      1.00      1.00        20\n",
      "     Italian       0.99      0.97      0.98       237\n",
      "     Kannada       1.00      0.98      0.99       109\n",
      "   Malayalam       1.00      0.97      0.99       200\n",
      "  Portugeese       1.00      0.96      0.98       241\n",
      "     Russian       0.79      1.00      0.88       217\n",
      "     Spanish       0.96      0.97      0.97       269\n",
      "    Sweedish       0.98      0.96      0.97       215\n",
      "       Tamil       1.00      0.98      0.99       155\n",
      "     Turkish       0.99      0.94      0.97       156\n",
      "\n",
      "    accuracy                           0.97      3412\n",
      "   macro avg       0.98      0.97      0.97      3412\n",
      "weighted avg       0.98      0.97      0.97      3412\n",
      "\n",
      "\n",
      "\n",
      "\n",
      "accuracy score:  0.9721570926143025\n"
     ]
    }
   ],
   "source": [
    "recoVocal.metrics()"
   ]
  },
  {
   "attachments": {},
   "cell_type": "markdown",
   "metadata": {},
   "source": [
    "## Test command (Say sentence to see if it works)"
   ]
  },
  {
   "cell_type": "code",
   "execution_count": 11,
   "metadata": {},
   "outputs": [
    {
     "ename": "KeyboardInterrupt",
     "evalue": "",
     "output_type": "error",
     "traceback": [
      "\u001b[1;31m---------------------------------------------------------------------------\u001b[0m",
      "\u001b[1;31mKeyboardInterrupt\u001b[0m                         Traceback (most recent call last)",
      "Cell \u001b[1;32mIn[11], line 1\u001b[0m\n\u001b[1;32m----> 1\u001b[0m recoVocal\u001b[39m.\u001b[39;49mcommand()\n",
      "File \u001b[1;32mc:\\Users\\damie\\Projects\\TravelOrderResolved\\ui\\reco_vocal.py:68\u001b[0m, in \u001b[0;36mReco_vocal.command\u001b[1;34m(self)\u001b[0m\n\u001b[0;32m     66\u001b[0m     \u001b[39mself\u001b[39m\u001b[39m.\u001b[39mspeech\u001b[39m.\u001b[39mpause_threshold \u001b[39m=\u001b[39m \u001b[39m1\u001b[39m\n\u001b[0;32m     67\u001b[0m     \u001b[39mself\u001b[39m\u001b[39m.\u001b[39mspeech\u001b[39m.\u001b[39madjust_for_ambient_noise(source)\n\u001b[1;32m---> 68\u001b[0m     audio \u001b[39m=\u001b[39m \u001b[39mself\u001b[39;49m\u001b[39m.\u001b[39;49mspeech\u001b[39m.\u001b[39;49mlisten(source)\n\u001b[0;32m     69\u001b[0m request \u001b[39m=\u001b[39m \u001b[39mself\u001b[39m\u001b[39m.\u001b[39mspeech\u001b[39m.\u001b[39mrecognize_google(audio, language\u001b[39m=\u001b[39m\u001b[39m'\u001b[39m\u001b[39mfr-FR\u001b[39m\u001b[39m'\u001b[39m)\n\u001b[0;32m     71\u001b[0m \u001b[39mif\u001b[39;00m \u001b[39mself\u001b[39m\u001b[39m.\u001b[39mloaded_model\u001b[39m.\u001b[39mpredict([request]) \u001b[39m==\u001b[39m \u001b[39m'\u001b[39m\u001b[39mFrench\u001b[39m\u001b[39m'\u001b[39m:\n",
      "File \u001b[1;32mc:\\Users\\damie\\anaconda3\\envs\\nlp\\lib\\site-packages\\speech_recognition\\__init__.py:652\u001b[0m, in \u001b[0;36mRecognizer.listen\u001b[1;34m(self, source, timeout, phrase_time_limit, snowboy_configuration)\u001b[0m\n\u001b[0;32m    649\u001b[0m \u001b[39mif\u001b[39;00m phrase_time_limit \u001b[39mand\u001b[39;00m elapsed_time \u001b[39m-\u001b[39m phrase_start_time \u001b[39m>\u001b[39m phrase_time_limit:\n\u001b[0;32m    650\u001b[0m     \u001b[39mbreak\u001b[39;00m\n\u001b[1;32m--> 652\u001b[0m buffer \u001b[39m=\u001b[39m source\u001b[39m.\u001b[39;49mstream\u001b[39m.\u001b[39;49mread(source\u001b[39m.\u001b[39;49mCHUNK)\n\u001b[0;32m    653\u001b[0m \u001b[39mif\u001b[39;00m \u001b[39mlen\u001b[39m(buffer) \u001b[39m==\u001b[39m \u001b[39m0\u001b[39m: \u001b[39mbreak\u001b[39;00m  \u001b[39m# reached end of the stream\u001b[39;00m\n\u001b[0;32m    654\u001b[0m frames\u001b[39m.\u001b[39mappend(buffer)\n",
      "File \u001b[1;32mc:\\Users\\damie\\anaconda3\\envs\\nlp\\lib\\site-packages\\speech_recognition\\__init__.py:161\u001b[0m, in \u001b[0;36mMicrophone.MicrophoneStream.read\u001b[1;34m(self, size)\u001b[0m\n\u001b[0;32m    160\u001b[0m \u001b[39mdef\u001b[39;00m \u001b[39mread\u001b[39m(\u001b[39mself\u001b[39m, size):\n\u001b[1;32m--> 161\u001b[0m     \u001b[39mreturn\u001b[39;00m \u001b[39mself\u001b[39;49m\u001b[39m.\u001b[39;49mpyaudio_stream\u001b[39m.\u001b[39;49mread(size, exception_on_overflow\u001b[39m=\u001b[39;49m\u001b[39mFalse\u001b[39;49;00m)\n",
      "File \u001b[1;32mc:\\Users\\damie\\anaconda3\\envs\\nlp\\lib\\site-packages\\pyaudio.py:612\u001b[0m, in \u001b[0;36mStream.read\u001b[1;34m(self, num_frames, exception_on_overflow)\u001b[0m\n\u001b[0;32m    608\u001b[0m \u001b[39mif\u001b[39;00m \u001b[39mnot\u001b[39;00m \u001b[39mself\u001b[39m\u001b[39m.\u001b[39m_is_input:\n\u001b[0;32m    609\u001b[0m     \u001b[39mraise\u001b[39;00m \u001b[39mIOError\u001b[39;00m(\u001b[39m\"\u001b[39m\u001b[39mNot input stream\u001b[39m\u001b[39m\"\u001b[39m,\n\u001b[0;32m    610\u001b[0m                   paCanNotReadFromAnOutputOnlyStream)\n\u001b[1;32m--> 612\u001b[0m \u001b[39mreturn\u001b[39;00m pa\u001b[39m.\u001b[39;49mread_stream(\u001b[39mself\u001b[39;49m\u001b[39m.\u001b[39;49m_stream, num_frames, exception_on_overflow)\n",
      "\u001b[1;31mKeyboardInterrupt\u001b[0m: "
     ]
    }
   ],
   "source": [
    "recoVocal.command()"
   ]
  },
  {
   "cell_type": "code",
   "execution_count": null,
   "metadata": {},
   "outputs": [],
   "source": []
  }
 ],
 "metadata": {
  "kernelspec": {
   "display_name": "nlp",
   "language": "python",
   "name": "python3"
  },
  "language_info": {
   "codemirror_mode": {
    "name": "ipython",
    "version": 3
   },
   "file_extension": ".py",
   "mimetype": "text/x-python",
   "name": "python",
   "nbconvert_exporter": "python",
   "pygments_lexer": "ipython3",
   "version": "3.9.0"
  },
  "orig_nbformat": 4,
  "vscode": {
   "interpreter": {
    "hash": "09fd5aace10c4206eb6e97198a017ace94a3250d2c313ccdd7fc42cb380a759e"
   }
  }
 },
 "nbformat": 4,
 "nbformat_minor": 2
}

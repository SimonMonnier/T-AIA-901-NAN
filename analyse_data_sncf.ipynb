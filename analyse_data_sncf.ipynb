{
 "cells": [
  {
   "cell_type": "code",
   "execution_count": 23,
   "id": "d24fdcd7",
   "metadata": {},
   "outputs": [],
   "source": [
    "import pandas as pd"
   ]
  },
  {
   "cell_type": "code",
   "execution_count": 24,
   "id": "dabfb462",
   "metadata": {},
   "outputs": [],
   "source": [
    "dfTimeTables = pd.read_csv(\"data_sncf/timetables.csv\", sep=\"\\t\")"
   ]
  },
  {
   "cell_type": "code",
   "execution_count": 25,
   "id": "a7457740",
   "metadata": {},
   "outputs": [
    {
     "data": {
      "text/html": [
       "<div>\n",
       "<style scoped>\n",
       "    .dataframe tbody tr th:only-of-type {\n",
       "        vertical-align: middle;\n",
       "    }\n",
       "\n",
       "    .dataframe tbody tr th {\n",
       "        vertical-align: top;\n",
       "    }\n",
       "\n",
       "    .dataframe thead th {\n",
       "        text-align: right;\n",
       "    }\n",
       "</style>\n",
       "<table border=\"1\" class=\"dataframe\">\n",
       "  <thead>\n",
       "    <tr style=\"text-align: right;\">\n",
       "      <th></th>\n",
       "      <th>trip_id</th>\n",
       "      <th>trajet</th>\n",
       "      <th>duree</th>\n",
       "    </tr>\n",
       "  </thead>\n",
       "  <tbody>\n",
       "    <tr>\n",
       "      <th>0</th>\n",
       "      <td>OCESN003100F140147152</td>\n",
       "      <td>Gare de Le Havre - Gare de Paris-St-Lazare</td>\n",
       "      <td>138</td>\n",
       "    </tr>\n",
       "    <tr>\n",
       "      <th>1</th>\n",
       "      <td>OCESN003190F040047309</td>\n",
       "      <td>Gare de Dieppe - Gare de Paris-St-Lazare</td>\n",
       "      <td>145</td>\n",
       "    </tr>\n",
       "    <tr>\n",
       "      <th>2</th>\n",
       "      <td>OCESN003198F030037315</td>\n",
       "      <td>Gare de Paris-St-Lazare - Gare de Rouen-Rive-D...</td>\n",
       "      <td>97</td>\n",
       "    </tr>\n",
       "    <tr>\n",
       "      <th>3</th>\n",
       "      <td>OCESN003300F030037323</td>\n",
       "      <td>Gare de Cherbourg - Gare de Paris-St-Lazare</td>\n",
       "      <td>194</td>\n",
       "    </tr>\n",
       "    <tr>\n",
       "      <th>4</th>\n",
       "      <td>OCESN003313F380387526</td>\n",
       "      <td>Gare de Caen - Gare de Paris-St-Lazare</td>\n",
       "      <td>149</td>\n",
       "    </tr>\n",
       "  </tbody>\n",
       "</table>\n",
       "</div>"
      ],
      "text/plain": [
       "                 trip_id                                             trajet  \\\n",
       "0  OCESN003100F140147152         Gare de Le Havre - Gare de Paris-St-Lazare   \n",
       "1  OCESN003190F040047309           Gare de Dieppe - Gare de Paris-St-Lazare   \n",
       "2  OCESN003198F030037315  Gare de Paris-St-Lazare - Gare de Rouen-Rive-D...   \n",
       "3  OCESN003300F030037323        Gare de Cherbourg - Gare de Paris-St-Lazare   \n",
       "4  OCESN003313F380387526             Gare de Caen - Gare de Paris-St-Lazare   \n",
       "\n",
       "   duree  \n",
       "0    138  \n",
       "1    145  \n",
       "2     97  \n",
       "3    194  \n",
       "4    149  "
      ]
     },
     "execution_count": 25,
     "metadata": {},
     "output_type": "execute_result"
    }
   ],
   "source": [
    "dfTimeTables.head()"
   ]
  },
  {
   "cell_type": "code",
   "execution_count": 28,
   "id": "5f64b92b",
   "metadata": {},
   "outputs": [],
   "source": [
    "import networkx as nx\n",
    "\n",
    "i = 0\n",
    "Graphe = nx.MultiGraph()\n",
    "while i < len(dfTimeTables):\n",
    "    nodes_a = dfTimeTables[\"trajet\"][i].split(\" - \")\n",
    "    j = 0\n",
    "    while j < len(dfTimeTables):\n",
    "        \n",
    "        nodes_b = dfTimeTables[\"trajet\"][j].split(\" - \")\n",
    "        if nodes_a[0] == nodes_b[0]:\n",
    "            time = dfTimeTables[\"duree\"][j]\n",
    "            Graphe.add_edge(nodes_a[0], nodes_b[1], poids=time)\n",
    "        if nodes_a[0] == nodes_b[1]:\n",
    "            time = dfTimeTables[\"duree\"][j]\n",
    "            Graphe.add_edge(nodes_a[0], nodes_b[0], poids=time)\n",
    "        j += 1\n",
    "    i += 1"
   ]
  },
  {
   "cell_type": "code",
   "execution_count": 29,
   "id": "f0d29ff3",
   "metadata": {},
   "outputs": [
    {
     "name": "stdout",
     "output_type": "stream",
     "text": [
      "['Gare de Nantes', 'Gare de Orléans', 'Gare de Paris-Austerlitz']\n"
     ]
    }
   ],
   "source": [
    "print(nx.dijkstra_path(Graphe, source=\"Gare de Nantes\", target=\"Gare de Paris-Austerlitz\", weight='weight'))"
   ]
  },
  {
   "cell_type": "code",
   "execution_count": 32,
   "id": "cf2b4ecb",
   "metadata": {},
   "outputs": [
    {
     "name": "stdout",
     "output_type": "stream",
     "text": [
      "Gare de Nantes\n",
      "Gare de Paris-Montparnasse 1-2\n"
     ]
    }
   ],
   "source": [
    "src = \"nantes\"\n",
    "dest = \"paris-montparnass\"\n",
    "\n",
    "i = 0\n",
    "j = 0\n",
    "while i < len(dfTimeTables):\n",
    "    nodes = dfTimeTables[\"trajet\"][i].split(\" - \")\n",
    "    if src.lower() in nodes[0].lower():\n",
    "        print(nodes[0])\n",
    "        break\n",
    "    if src.lower() in nodes[1].lower():\n",
    "        print(nodes[1])\n",
    "        break\n",
    "    i += 1\n",
    "    \n",
    "while j < len(dfTimeTables):\n",
    "    nodes = dfTimeTables[\"trajet\"][j].split(\" - \")\n",
    "    if dest.lower() in nodes[0].lower():\n",
    "        print(nodes[0])\n",
    "        break\n",
    "    if dest.lower() in nodes[1].lower():\n",
    "        print(nodes[1])\n",
    "        break\n",
    "    j += 1"
   ]
  },
  {
   "cell_type": "code",
   "execution_count": null,
   "id": "e3979cea",
   "metadata": {},
   "outputs": [],
   "source": []
  },
  {
   "cell_type": "code",
   "execution_count": null,
   "id": "3805b605",
   "metadata": {},
   "outputs": [],
   "source": []
  },
  {
   "cell_type": "code",
   "execution_count": null,
   "id": "efc57317",
   "metadata": {},
   "outputs": [],
   "source": []
  },
  {
   "cell_type": "code",
   "execution_count": null,
   "id": "110fcf17",
   "metadata": {},
   "outputs": [],
   "source": []
  }
 ],
 "metadata": {
  "kernelspec": {
   "display_name": "bigdata",
   "language": "python",
   "name": "bigdata"
  },
  "language_info": {
   "codemirror_mode": {
    "name": "ipython",
    "version": 3
   },
   "file_extension": ".py",
   "mimetype": "text/x-python",
   "name": "python",
   "nbconvert_exporter": "python",
   "pygments_lexer": "ipython3",
   "version": "3.9.7"
  }
 },
 "nbformat": 4,
 "nbformat_minor": 5
}

{
 "cells": [
  {
   "cell_type": "code",
   "execution_count": 1,
   "id": "749f13cd",
   "metadata": {},
   "outputs": [],
   "source": [
    "from ExtractLocation import ExtractLocation"
   ]
  },
  {
   "cell_type": "code",
   "execution_count": 2,
   "id": "9811fb85",
   "metadata": {},
   "outputs": [],
   "source": [
    "extract = ExtractLocation()"
   ]
  },
  {
   "cell_type": "code",
   "execution_count": 3,
   "id": "eb95dc2f",
   "metadata": {},
   "outputs": [],
   "source": [
    "extract.train()"
   ]
  },
  {
   "cell_type": "code",
   "execution_count": 4,
   "id": "ebae7630",
   "metadata": {},
   "outputs": [
    {
     "name": "stdout",
     "output_type": "stream",
     "text": [
      "             not_command  command\n",
      "not_command       248582        0\n",
      "command                0   248341\n",
      "\n",
      "\n",
      "\n",
      "              precision    recall  f1-score   support\n",
      "\n",
      "     command       1.00      1.00      1.00    248582\n",
      " not_command       1.00      1.00      1.00    248341\n",
      "\n",
      "    accuracy                           1.00    496923\n",
      "   macro avg       1.00      1.00      1.00    496923\n",
      "weighted avg       1.00      1.00      1.00    496923\n",
      "\n",
      "\n",
      "\n",
      "\n",
      "accuracy score:  1.0\n"
     ]
    }
   ],
   "source": [
    "extract.metrics()"
   ]
  },
  {
   "cell_type": "code",
   "execution_count": 3,
   "id": "167fe953",
   "metadata": {},
   "outputs": [
    {
     "data": {
      "text/plain": [
       "array(['command'], dtype=object)"
      ]
     },
     "execution_count": 3,
     "metadata": {},
     "output_type": "execute_result"
    }
   ],
   "source": [
    "extract.predict(\"Recherche le trajet Nantes Paris\")"
   ]
  },
  {
   "cell_type": "code",
   "execution_count": 6,
   "id": "056e82b9",
   "metadata": {},
   "outputs": [
    {
     "data": {
      "text/plain": [
       "array(['command'], dtype=object)"
      ]
     },
     "execution_count": 6,
     "metadata": {},
     "output_type": "execute_result"
    }
   ],
   "source": [
    "extract.predict(\"aller\")"
   ]
  },
  {
   "cell_type": "code",
   "execution_count": 7,
   "id": "25c5d947",
   "metadata": {},
   "outputs": [
    {
     "data": {
      "text/plain": [
       "array(['command'], dtype=object)"
      ]
     },
     "execution_count": 7,
     "metadata": {},
     "output_type": "execute_result"
    }
   ],
   "source": [
    "extract.predict(\"Recherche le clip de rohff sur youtube\")"
   ]
  },
  {
   "cell_type": "code",
   "execution_count": 8,
   "id": "36524c2e",
   "metadata": {},
   "outputs": [
    {
     "data": {
      "text/plain": [
       "array(['not_command'], dtype=object)"
      ]
     },
     "execution_count": 8,
     "metadata": {},
     "output_type": "execute_result"
    }
   ],
   "source": [
    "extract.predict(\"Salut simon comment vas tu ? tu cherche quelque chose ?\")"
   ]
  },
  {
   "cell_type": "code",
   "execution_count": 4,
   "id": "fb0e8f0c",
   "metadata": {},
   "outputs": [
    {
     "data": {
      "text/plain": [
       "['Nantes', 'Marseille']"
      ]
     },
     "execution_count": 4,
     "metadata": {},
     "output_type": "execute_result"
    }
   ],
   "source": [
    "extract.extract_location(\"Je souhaite aller de Nantes à Marseille\")"
   ]
  },
  {
   "cell_type": "code",
   "execution_count": 10,
   "id": "5444a9f8",
   "metadata": {},
   "outputs": [],
   "source": [
    "from reco_vocal import reco_vocal"
   ]
  },
  {
   "cell_type": "code",
   "execution_count": 10,
   "id": "22681cca",
   "metadata": {},
   "outputs": [
    {
     "data": {
      "text/plain": [
       "array(['not_command'], dtype=object)"
      ]
     },
     "execution_count": 10,
     "metadata": {},
     "output_type": "execute_result"
    }
   ],
   "source": [
    "extract.predict(\"Salut simon comment vas tu ?\")"
   ]
  },
  {
   "cell_type": "code",
   "execution_count": 11,
   "id": "a268b59e",
   "metadata": {},
   "outputs": [
    {
     "data": {
      "text/plain": [
       "array(['command'], dtype=object)"
      ]
     },
     "execution_count": 11,
     "metadata": {},
     "output_type": "execute_result"
    }
   ],
   "source": [
    "extract.predict(\"Recherche\")"
   ]
  },
  {
   "cell_type": "code",
   "execution_count": 5,
   "id": "c3d779ad",
   "metadata": {},
   "outputs": [
    {
     "data": {
      "text/plain": [
       "['Nantes', 'Marseille']"
      ]
     },
     "execution_count": 5,
     "metadata": {},
     "output_type": "execute_result"
    }
   ],
   "source": [
    "extract.extract_location(\"Je souhaite aller de Nantes à Marseille\")"
   ]
  },
  {
   "cell_type": "code",
   "execution_count": 6,
   "id": "e571701f",
   "metadata": {},
   "outputs": [
    {
     "data": {
      "text/plain": [
       "[]"
      ]
     },
     "execution_count": 6,
     "metadata": {},
     "output_type": "execute_result"
    }
   ],
   "source": [
    "extract.extract_location(\"Quelle est la ville laplus grande entre Nantes et Marseille\")"
   ]
  },
  {
   "cell_type": "code",
   "execution_count": 7,
   "id": "63872ea1",
   "metadata": {},
   "outputs": [
    {
     "data": {
      "text/plain": [
       "[]"
      ]
     },
     "execution_count": 7,
     "metadata": {},
     "output_type": "execute_result"
    }
   ],
   "source": [
    "extract.extract_location(\"recherche\")"
   ]
  },
  {
   "cell_type": "code",
   "execution_count": 11,
   "id": "9170168f",
   "metadata": {},
   "outputs": [
    {
     "data": {
      "text/plain": [
       "['paris', 'nantes']"
      ]
     },
     "execution_count": 11,
     "metadata": {},
     "output_type": "execute_result"
    }
   ],
   "source": [
    "extract.extract_location(\"Recherche trajet pour nantes depuis paris\")"
   ]
  },
  {
   "cell_type": "code",
   "execution_count": 12,
   "id": "c425ffee",
   "metadata": {},
   "outputs": [
    {
     "data": {
      "text/plain": [
       "[]"
      ]
     },
     "execution_count": 12,
     "metadata": {},
     "output_type": "execute_result"
    }
   ],
   "source": [
    "extract.extract_location(\"Recherche le clip de rohff sur youtube\")"
   ]
  },
  {
   "cell_type": "code",
   "execution_count": 13,
   "id": "3e0abed4",
   "metadata": {},
   "outputs": [
    {
     "data": {
      "text/plain": [
       "['paris', 'nantes']"
      ]
     },
     "execution_count": 13,
     "metadata": {},
     "output_type": "execute_result"
    }
   ],
   "source": [
    "extract.extract_location(\"Recherche trajet pour nantes à partir de paris\")"
   ]
  },
  {
   "cell_type": "code",
   "execution_count": 14,
   "id": "d3811f85",
   "metadata": {},
   "outputs": [
    {
     "data": {
      "text/plain": [
       "[]"
      ]
     },
     "execution_count": 14,
     "metadata": {},
     "output_type": "execute_result"
    }
   ],
   "source": [
    "extract.extract_location(\"Recherche trajet pour nantes\")"
   ]
  },
  {
   "cell_type": "code",
   "execution_count": 15,
   "id": "60e66b1d",
   "metadata": {},
   "outputs": [
    {
     "data": {
      "text/plain": [
       "['nantes', 'paris']"
      ]
     },
     "execution_count": 15,
     "metadata": {},
     "output_type": "execute_result"
    }
   ],
   "source": [
    "extract.extract_location(\"Recherche le clip de rohff sur nantes et paris\")"
   ]
  },
  {
   "cell_type": "code",
   "execution_count": null,
   "id": "6f74aa59",
   "metadata": {},
   "outputs": [],
   "source": []
  }
 ],
 "metadata": {
  "kernelspec": {
   "display_name": "bigdata",
   "language": "python",
   "name": "bigdata"
  },
  "language_info": {
   "codemirror_mode": {
    "name": "ipython",
    "version": 3
   },
   "file_extension": ".py",
   "mimetype": "text/x-python",
   "name": "python",
   "nbconvert_exporter": "python",
   "pygments_lexer": "ipython3",
   "version": "3.9.7"
  }
 },
 "nbformat": 4,
 "nbformat_minor": 5
}

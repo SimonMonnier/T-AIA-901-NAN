{
 "cells": [
  {
   "cell_type": "code",
   "execution_count": 2,
   "id": "749f13cd",
   "metadata": {},
   "outputs": [],
   "source": [
    "from ExtractLocation import ExtractLocation"
   ]
  },
  {
   "cell_type": "code",
   "execution_count": 3,
   "id": "9811fb85",
   "metadata": {},
   "outputs": [],
   "source": [
    "extract = ExtractLocation()"
   ]
  },
  {
   "cell_type": "code",
   "execution_count": 3,
   "id": "eb95dc2f",
   "metadata": {},
   "outputs": [],
   "source": [
    "extract.train()"
   ]
  },
  {
   "cell_type": "code",
   "execution_count": 4,
   "id": "ebae7630",
   "metadata": {},
   "outputs": [
    {
     "name": "stdout",
     "output_type": "stream",
     "text": [
      "             not_command  command\n",
      "not_command       248174        0\n",
      "command                0   225086\n",
      "\n",
      "\n",
      "\n",
      "              precision    recall  f1-score   support\n",
      "\n",
      "     command       1.00      1.00      1.00    248174\n",
      " not_command       1.00      1.00      1.00    225086\n",
      "\n",
      "    accuracy                           1.00    473260\n",
      "   macro avg       1.00      1.00      1.00    473260\n",
      "weighted avg       1.00      1.00      1.00    473260\n",
      "\n",
      "\n",
      "\n",
      "\n",
      "accuracy score:  1.0\n"
     ]
    }
   ],
   "source": [
    "extract.metrics()"
   ]
  },
  {
   "cell_type": "code",
   "execution_count": 5,
   "id": "167fe953",
   "metadata": {},
   "outputs": [
    {
     "data": {
      "text/plain": [
       "array(['command'], dtype=object)"
      ]
     },
     "execution_count": 5,
     "metadata": {},
     "output_type": "execute_result"
    }
   ],
   "source": [
    "extract.predict(\"Recherche le trajet Nantes Paris\")"
   ]
  },
  {
   "cell_type": "code",
   "execution_count": 7,
   "id": "056e82b9",
   "metadata": {},
   "outputs": [
    {
     "data": {
      "text/plain": [
       "array(['command'], dtype=object)"
      ]
     },
     "execution_count": 7,
     "metadata": {},
     "output_type": "execute_result"
    }
   ],
   "source": [
    "extract.predict(\"aller\")"
   ]
  },
  {
   "cell_type": "code",
   "execution_count": 7,
   "id": "25c5d947",
   "metadata": {},
   "outputs": [
    {
     "data": {
      "text/plain": [
       "array(['command'], dtype=object)"
      ]
     },
     "execution_count": 7,
     "metadata": {},
     "output_type": "execute_result"
    }
   ],
   "source": [
    "extract.predict(\"Recherche le clip de rohff sur youtube\")"
   ]
  },
  {
   "cell_type": "code",
   "execution_count": 8,
   "id": "36524c2e",
   "metadata": {},
   "outputs": [
    {
     "data": {
      "text/plain": [
       "array(['not_command'], dtype=object)"
      ]
     },
     "execution_count": 8,
     "metadata": {},
     "output_type": "execute_result"
    }
   ],
   "source": [
    "extract.predict(\"Salut simon comment vas tu ? tu cherchde quelque chose ?\")"
   ]
  },
  {
   "cell_type": "code",
   "execution_count": 10,
   "id": "fb0e8f0c",
   "metadata": {},
   "outputs": [
    {
     "data": {
      "text/plain": [
       "['Nantes', 'Marseille']"
      ]
     },
     "execution_count": 10,
     "metadata": {},
     "output_type": "execute_result"
    }
   ],
   "source": [
    "extract.extract_location(\"Je souhaite aller de Nantes à Marseille\")"
   ]
  },
  {
   "cell_type": "code",
   "execution_count": 10,
   "id": "5444a9f8",
   "metadata": {},
   "outputs": [],
   "source": [
    "from reco_vocal import reco_vocal"
   ]
  },
  {
   "cell_type": "code",
   "execution_count": 11,
   "id": "22681cca",
   "metadata": {},
   "outputs": [
    {
     "data": {
      "text/plain": [
       "array(['not_command'], dtype=object)"
      ]
     },
     "execution_count": 11,
     "metadata": {},
     "output_type": "execute_result"
    }
   ],
   "source": [
    "extract.predict(\"Salut simon comment vas tu ?\")"
   ]
  },
  {
   "cell_type": "code",
   "execution_count": 12,
   "id": "a268b59e",
   "metadata": {},
   "outputs": [
    {
     "data": {
      "text/plain": [
       "array(['command'], dtype=object)"
      ]
     },
     "execution_count": 12,
     "metadata": {},
     "output_type": "execute_result"
    }
   ],
   "source": [
    "extract.predict(\"Recherche\")"
   ]
  },
  {
   "cell_type": "code",
   "execution_count": 1,
   "id": "c3d779ad",
   "metadata": {},
   "outputs": [
    {
     "name": "stdout",
     "output_type": "stream",
     "text": [
      "0 / 35852\n",
      "1 / 35852\n",
      "2 / 35852\n",
      "3 / 35852\n",
      "4 / 35852\n",
      "5 / 35852\n",
      "6 / 35852\n",
      "7 / 35852\n",
      "8 / 35852\n",
      "9 / 35852\n",
      "10 / 35852\n",
      "11 / 35852\n",
      "12 / 35852\n",
      "13 / 35852\n",
      "14 / 35852\n",
      "15 / 35852\n",
      "16 / 35852\n",
      "17 / 35852\n",
      "18 / 35852\n",
      "19 / 35852\n",
      "20 / 35852\n",
      "21 / 35852\n",
      "22 / 35852\n",
      "23 / 35852\n",
      "24 / 35852\n",
      "25 / 35852\n",
      "26 / 35852\n",
      "27 / 35852\n",
      "28 / 35852\n",
      "29 / 35852\n",
      "30 / 35852\n",
      "31 / 35852\n",
      "32 / 35852\n",
      "33 / 35852\n",
      "34 / 35852\n",
      "35 / 35852\n",
      "36 / 35852\n",
      "37 / 35852\n",
      "38 / 35852\n",
      "39 / 35852\n",
      "40 / 35852\n",
      "41 / 35852\n",
      "42 / 35852\n",
      "43 / 35852\n",
      "44 / 35852\n",
      "45 / 35852\n",
      "46 / 35852\n",
      "47 / 35852\n",
      "48 / 35852\n",
      "49 / 35852\n",
      "50 / 35852\n",
      "51 / 35852\n",
      "52 / 35852\n",
      "53 / 35852\n",
      "54 / 35852\n",
      "55 / 35852\n",
      "56 / 35852\n",
      "57 / 35852\n",
      "58 / 35852\n",
      "59 / 35852\n",
      "60 / 35852\n",
      "61 / 35852\n",
      "62 / 35852\n",
      "63 / 35852\n",
      "64 / 35852\n",
      "65 / 35852\n",
      "66 / 35852\n",
      "67 / 35852\n",
      "68 / 35852\n",
      "69 / 35852\n",
      "70 / 35852\n",
      "71 / 35852\n",
      "72 / 35852\n",
      "73 / 35852\n",
      "74 / 35852\n",
      "75 / 35852\n",
      "76 / 35852\n",
      "77 / 35852\n",
      "78 / 35852\n",
      "79 / 35852\n",
      "80 / 35852\n",
      "81 / 35852\n",
      "82 / 35852\n",
      "83 / 35852\n",
      "84 / 35852\n",
      "85 / 35852\n",
      "86 / 35852\n",
      "87 / 35852\n",
      "88 / 35852\n",
      "89 / 35852\n",
      "90 / 35852\n",
      "91 / 35852\n",
      "92 / 35852\n",
      "93 / 35852\n",
      "94 / 35852\n",
      "95 / 35852\n",
      "96 / 35852\n",
      "97 / 35852\n",
      "98 / 35852\n",
      "99 / 35852\n",
      "100 / 35852\n",
      "101 / 35852\n",
      "102 / 35852\n",
      "103 / 35852\n",
      "104 / 35852\n",
      "105 / 35852\n",
      "106 / 35852\n",
      "107 / 35852\n",
      "108 / 35852\n",
      "109 / 35852\n",
      "110 / 35852\n",
      "111 / 35852\n",
      "112 / 35852\n",
      "113 / 35852\n",
      "114 / 35852\n",
      "115 / 35852\n",
      "116 / 35852\n",
      "117 / 35852\n",
      "118 / 35852\n",
      "119 / 35852\n",
      "120 / 35852\n",
      "121 / 35852\n",
      "122 / 35852\n",
      "123 / 35852\n",
      "124 / 35852\n",
      "125 / 35852\n",
      "126 / 35852\n",
      "127 / 35852\n",
      "128 / 35852\n",
      "129 / 35852\n",
      "130 / 35852\n",
      "131 / 35852\n",
      "132 / 35852\n",
      "133 / 35852\n",
      "134 / 35852\n",
      "135 / 35852\n",
      "136 / 35852\n",
      "137 / 35852\n",
      "138 / 35852\n",
      "139 / 35852\n",
      "140 / 35852\n",
      "141 / 35852\n",
      "142 / 35852\n",
      "143 / 35852\n",
      "144 / 35852\n",
      "145 / 35852\n",
      "146 / 35852\n",
      "147 / 35852\n",
      "148 / 35852\n",
      "149 / 35852\n",
      "150 / 35852\n",
      "151 / 35852\n",
      "152 / 35852\n",
      "153 / 35852\n",
      "154 / 35852\n",
      "155 / 35852\n",
      "156 / 35852\n",
      "157 / 35852\n",
      "158 / 35852\n",
      "159 / 35852\n",
      "160 / 35852\n",
      "161 / 35852\n",
      "162 / 35852\n",
      "163 / 35852\n",
      "164 / 35852\n",
      "165 / 35852\n",
      "166 / 35852\n",
      "167 / 35852\n",
      "168 / 35852\n",
      "169 / 35852\n",
      "170 / 35852\n",
      "171 / 35852\n",
      "172 / 35852\n",
      "173 / 35852\n",
      "174 / 35852\n",
      "175 / 35852\n",
      "176 / 35852\n",
      "177 / 35852\n",
      "178 / 35852\n",
      "179 / 35852\n",
      "180 / 35852\n",
      "181 / 35852\n",
      "182 / 35852\n",
      "183 / 35852\n",
      "184 / 35852\n",
      "185 / 35852\n",
      "186 / 35852\n",
      "187 / 35852\n",
      "188 / 35852\n",
      "189 / 35852\n",
      "190 / 35852\n",
      "191 / 35852\n",
      "192 / 35852\n",
      "193 / 35852\n",
      "194 / 35852\n",
      "195 / 35852\n",
      "196 / 35852\n",
      "197 / 35852\n",
      "198 / 35852\n",
      "199 / 35852\n",
      "200 / 35852\n",
      "201 / 35852\n",
      "202 / 35852\n",
      "203 / 35852\n",
      "204 / 35852\n",
      "205 / 35852\n",
      "206 / 35852\n",
      "207 / 35852\n",
      "208 / 35852\n",
      "209 / 35852\n",
      "210 / 35852\n",
      "211 / 35852\n",
      "212 / 35852\n",
      "213 / 35852\n",
      "214 / 35852\n",
      "215 / 35852\n",
      "216 / 35852\n",
      "217 / 35852\n",
      "218 / 35852\n",
      "219 / 35852\n",
      "220 / 35852\n",
      "221 / 35852\n",
      "222 / 35852\n",
      "223 / 35852\n",
      "224 / 35852\n",
      "225 / 35852\n",
      "226 / 35852\n",
      "227 / 35852\n",
      "228 / 35852\n",
      "229 / 35852\n",
      "230 / 35852\n",
      "231 / 35852\n",
      "232 / 35852\n",
      "233 / 35852\n",
      "234 / 35852\n",
      "235 / 35852\n",
      "236 / 35852\n",
      "237 / 35852\n",
      "238 / 35852\n",
      "239 / 35852\n",
      "240 / 35852\n",
      "241 / 35852\n",
      "242 / 35852\n",
      "243 / 35852\n",
      "244 / 35852\n",
      "245 / 35852\n",
      "246 / 35852\n",
      "247 / 35852\n",
      "248 / 35852\n",
      "249 / 35852\n",
      "250 / 35852\n",
      "251 / 35852\n",
      "252 / 35852\n",
      "253 / 35852\n",
      "254 / 35852\n",
      "255 / 35852\n",
      "256 / 35852\n",
      "257 / 35852\n",
      "258 / 35852\n",
      "259 / 35852\n",
      "260 / 35852\n",
      "261 / 35852\n",
      "262 / 35852\n",
      "263 / 35852\n",
      "264 / 35852\n",
      "265 / 35852\n",
      "266 / 35852\n",
      "267 / 35852\n",
      "268 / 35852\n",
      "269 / 35852\n",
      "270 / 35852\n",
      "271 / 35852\n",
      "272 / 35852\n",
      "273 / 35852\n",
      "274 / 35852\n",
      "275 / 35852\n",
      "276 / 35852\n",
      "277 / 35852\n",
      "278 / 35852\n",
      "279 / 35852\n",
      "280 / 35852\n",
      "281 / 35852\n",
      "282 / 35852\n",
      "283 / 35852\n",
      "284 / 35852\n",
      "285 / 35852\n",
      "286 / 35852\n",
      "287 / 35852\n",
      "288 / 35852\n",
      "289 / 35852\n",
      "290 / 35852\n",
      "291 / 35852\n",
      "292 / 35852\n",
      "293 / 35852\n",
      "294 / 35852\n",
      "295 / 35852\n",
      "296 / 35852\n",
      "297 / 35852\n",
      "298 / 35852\n",
      "299 / 35852\n",
      "300 / 35852\n",
      "301 / 35852\n",
      "302 / 35852\n",
      "303 / 35852\n",
      "304 / 35852\n",
      "305 / 35852\n",
      "306 / 35852\n",
      "307 / 35852\n",
      "308 / 35852\n",
      "309 / 35852\n",
      "310 / 35852\n",
      "311 / 35852\n",
      "312 / 35852\n",
      "313 / 35852\n",
      "314 / 35852\n",
      "315 / 35852\n",
      "316 / 35852\n",
      "317 / 35852\n",
      "318 / 35852\n",
      "319 / 35852\n",
      "320 / 35852\n",
      "321 / 35852\n",
      "322 / 35852\n",
      "323 / 35852\n",
      "324 / 35852\n",
      "325 / 35852\n",
      "326 / 35852\n",
      "327 / 35852\n",
      "328 / 35852\n",
      "329 / 35852\n"
     ]
    },
    {
     "ename": "KeyboardInterrupt",
     "evalue": "",
     "output_type": "error",
     "traceback": [
      "\u001b[1;31m---------------------------------------------------------------------------\u001b[0m",
      "\u001b[1;31mKeyboardInterrupt\u001b[0m                         Traceback (most recent call last)",
      "\u001b[1;32m~\\AppData\\Local\\Temp\\ipykernel_15404\\3325843138.py\u001b[0m in \u001b[0;36m<cell line: 1>\u001b[1;34m()\u001b[0m\n\u001b[1;32m----> 1\u001b[1;33m \u001b[1;32mimport\u001b[0m \u001b[0mgenerator_sentence\u001b[0m\u001b[1;33m\u001b[0m\u001b[1;33m\u001b[0m\u001b[0m\n\u001b[0m",
      "\u001b[1;32m~\\Desktop\\T-AIA-901-NAN_2\\generator_sentence.py\u001b[0m in \u001b[0;36m<module>\u001b[1;34m\u001b[0m\n\u001b[0;32m    119\u001b[0m     \u001b[0mnew_row\u001b[0m \u001b[1;33m=\u001b[0m \u001b[1;33m{\u001b[0m\u001b[1;34m'tag'\u001b[0m\u001b[1;33m:\u001b[0m\u001b[1;34m'not_command'\u001b[0m\u001b[1;33m,\u001b[0m\u001b[1;34m'sentence'\u001b[0m\u001b[1;33m:\u001b[0m \u001b[0mrandom_sentence\u001b[0m\u001b[1;33m[\u001b[0m\u001b[0mrandom\u001b[0m\u001b[1;33m.\u001b[0m\u001b[0mrandint\u001b[0m\u001b[1;33m(\u001b[0m\u001b[1;36m0\u001b[0m\u001b[1;33m,\u001b[0m\u001b[0mk\u001b[0m\u001b[1;33m)\u001b[0m\u001b[1;33m]\u001b[0m  \u001b[1;33m+\u001b[0m \u001b[1;34m\" voyage\"\u001b[0m\u001b[1;33m}\u001b[0m\u001b[1;33m\u001b[0m\u001b[1;33m\u001b[0m\u001b[0m\n\u001b[0;32m    120\u001b[0m     \u001b[0mdf_tmp\u001b[0m \u001b[1;33m=\u001b[0m \u001b[0mpd\u001b[0m\u001b[1;33m.\u001b[0m\u001b[0mDataFrame\u001b[0m\u001b[1;33m(\u001b[0m\u001b[0mnew_row\u001b[0m\u001b[1;33m,\u001b[0m \u001b[0mindex\u001b[0m\u001b[1;33m=\u001b[0m\u001b[1;33m[\u001b[0m\u001b[1;36m0\u001b[0m\u001b[1;33m]\u001b[0m\u001b[1;33m)\u001b[0m\u001b[1;33m\u001b[0m\u001b[1;33m\u001b[0m\u001b[0m\n\u001b[1;32m--> 121\u001b[1;33m     \u001b[0mdf_new\u001b[0m \u001b[1;33m=\u001b[0m \u001b[0mpd\u001b[0m\u001b[1;33m.\u001b[0m\u001b[0mconcat\u001b[0m\u001b[1;33m(\u001b[0m\u001b[1;33m[\u001b[0m\u001b[0mdf_new\u001b[0m\u001b[1;33m,\u001b[0m \u001b[0mdf_tmp\u001b[0m\u001b[1;33m]\u001b[0m\u001b[1;33m)\u001b[0m\u001b[1;33m\u001b[0m\u001b[1;33m\u001b[0m\u001b[0m\n\u001b[0m\u001b[0;32m    122\u001b[0m     \u001b[0mnew_row\u001b[0m \u001b[1;33m=\u001b[0m \u001b[1;33m{\u001b[0m\u001b[1;34m'tag'\u001b[0m\u001b[1;33m:\u001b[0m\u001b[1;34m'not_command'\u001b[0m\u001b[1;33m,\u001b[0m\u001b[1;34m'sentence'\u001b[0m\u001b[1;33m:\u001b[0m \u001b[0mrandom_sentence\u001b[0m\u001b[1;33m[\u001b[0m\u001b[0mrandom\u001b[0m\u001b[1;33m.\u001b[0m\u001b[0mrandint\u001b[0m\u001b[1;33m(\u001b[0m\u001b[1;36m0\u001b[0m\u001b[1;33m,\u001b[0m\u001b[0mk\u001b[0m\u001b[1;33m)\u001b[0m\u001b[1;33m]\u001b[0m  \u001b[1;33m+\u001b[0m \u001b[1;34m\" partie\"\u001b[0m\u001b[1;33m}\u001b[0m\u001b[1;33m\u001b[0m\u001b[1;33m\u001b[0m\u001b[0m\n\u001b[0;32m    123\u001b[0m     \u001b[0mdf_tmp\u001b[0m \u001b[1;33m=\u001b[0m \u001b[0mpd\u001b[0m\u001b[1;33m.\u001b[0m\u001b[0mDataFrame\u001b[0m\u001b[1;33m(\u001b[0m\u001b[0mnew_row\u001b[0m\u001b[1;33m,\u001b[0m \u001b[0mindex\u001b[0m\u001b[1;33m=\u001b[0m\u001b[1;33m[\u001b[0m\u001b[1;36m0\u001b[0m\u001b[1;33m]\u001b[0m\u001b[1;33m)\u001b[0m\u001b[1;33m\u001b[0m\u001b[1;33m\u001b[0m\u001b[0m\n",
      "\u001b[1;32m~\\miniconda3\\envs\\bigdata\\lib\\site-packages\\pandas\\util\\_decorators.py\u001b[0m in \u001b[0;36mwrapper\u001b[1;34m(*args, **kwargs)\u001b[0m\n\u001b[0;32m    309\u001b[0m                     \u001b[0mstacklevel\u001b[0m\u001b[1;33m=\u001b[0m\u001b[0mstacklevel\u001b[0m\u001b[1;33m,\u001b[0m\u001b[1;33m\u001b[0m\u001b[1;33m\u001b[0m\u001b[0m\n\u001b[0;32m    310\u001b[0m                 )\n\u001b[1;32m--> 311\u001b[1;33m             \u001b[1;32mreturn\u001b[0m \u001b[0mfunc\u001b[0m\u001b[1;33m(\u001b[0m\u001b[1;33m*\u001b[0m\u001b[0margs\u001b[0m\u001b[1;33m,\u001b[0m \u001b[1;33m**\u001b[0m\u001b[0mkwargs\u001b[0m\u001b[1;33m)\u001b[0m\u001b[1;33m\u001b[0m\u001b[1;33m\u001b[0m\u001b[0m\n\u001b[0m\u001b[0;32m    312\u001b[0m \u001b[1;33m\u001b[0m\u001b[0m\n\u001b[0;32m    313\u001b[0m         \u001b[1;32mreturn\u001b[0m \u001b[0mwrapper\u001b[0m\u001b[1;33m\u001b[0m\u001b[1;33m\u001b[0m\u001b[0m\n",
      "\u001b[1;32m~\\miniconda3\\envs\\bigdata\\lib\\site-packages\\pandas\\core\\reshape\\concat.py\u001b[0m in \u001b[0;36mconcat\u001b[1;34m(objs, axis, join, ignore_index, keys, levels, names, verify_integrity, sort, copy)\u001b[0m\n\u001b[0;32m    358\u001b[0m     )\n\u001b[0;32m    359\u001b[0m \u001b[1;33m\u001b[0m\u001b[0m\n\u001b[1;32m--> 360\u001b[1;33m     \u001b[1;32mreturn\u001b[0m \u001b[0mop\u001b[0m\u001b[1;33m.\u001b[0m\u001b[0mget_result\u001b[0m\u001b[1;33m(\u001b[0m\u001b[1;33m)\u001b[0m\u001b[1;33m\u001b[0m\u001b[1;33m\u001b[0m\u001b[0m\n\u001b[0m\u001b[0;32m    361\u001b[0m \u001b[1;33m\u001b[0m\u001b[0m\n\u001b[0;32m    362\u001b[0m \u001b[1;33m\u001b[0m\u001b[0m\n",
      "\u001b[1;32m~\\miniconda3\\envs\\bigdata\\lib\\site-packages\\pandas\\core\\reshape\\concat.py\u001b[0m in \u001b[0;36mget_result\u001b[1;34m(self)\u001b[0m\n\u001b[0;32m    593\u001b[0m                 \u001b[0mmgrs_indexers\u001b[0m\u001b[1;33m.\u001b[0m\u001b[0mappend\u001b[0m\u001b[1;33m(\u001b[0m\u001b[1;33m(\u001b[0m\u001b[0mobj\u001b[0m\u001b[1;33m.\u001b[0m\u001b[0m_mgr\u001b[0m\u001b[1;33m,\u001b[0m \u001b[0mindexers\u001b[0m\u001b[1;33m)\u001b[0m\u001b[1;33m)\u001b[0m\u001b[1;33m\u001b[0m\u001b[1;33m\u001b[0m\u001b[0m\n\u001b[0;32m    594\u001b[0m \u001b[1;33m\u001b[0m\u001b[0m\n\u001b[1;32m--> 595\u001b[1;33m             new_data = concatenate_managers(\n\u001b[0m\u001b[0;32m    596\u001b[0m                 \u001b[0mmgrs_indexers\u001b[0m\u001b[1;33m,\u001b[0m \u001b[0mself\u001b[0m\u001b[1;33m.\u001b[0m\u001b[0mnew_axes\u001b[0m\u001b[1;33m,\u001b[0m \u001b[0mconcat_axis\u001b[0m\u001b[1;33m=\u001b[0m\u001b[0mself\u001b[0m\u001b[1;33m.\u001b[0m\u001b[0mbm_axis\u001b[0m\u001b[1;33m,\u001b[0m \u001b[0mcopy\u001b[0m\u001b[1;33m=\u001b[0m\u001b[0mself\u001b[0m\u001b[1;33m.\u001b[0m\u001b[0mcopy\u001b[0m\u001b[1;33m\u001b[0m\u001b[1;33m\u001b[0m\u001b[0m\n\u001b[0;32m    597\u001b[0m             )\n",
      "\u001b[1;32m~\\miniconda3\\envs\\bigdata\\lib\\site-packages\\pandas\\core\\internals\\concat.py\u001b[0m in \u001b[0;36mconcatenate_managers\u001b[1;34m(mgrs_indexers, axes, concat_axis, copy)\u001b[0m\n\u001b[0;32m    229\u001b[0m                 \u001b[1;31m#  we can use np.concatenate, which is more performant\u001b[0m\u001b[1;33m\u001b[0m\u001b[1;33m\u001b[0m\u001b[0m\n\u001b[0;32m    230\u001b[0m                 \u001b[1;31m#  than concat_compat\u001b[0m\u001b[1;33m\u001b[0m\u001b[1;33m\u001b[0m\u001b[0m\n\u001b[1;32m--> 231\u001b[1;33m                 \u001b[0mvalues\u001b[0m \u001b[1;33m=\u001b[0m \u001b[0mnp\u001b[0m\u001b[1;33m.\u001b[0m\u001b[0mconcatenate\u001b[0m\u001b[1;33m(\u001b[0m\u001b[0mvals\u001b[0m\u001b[1;33m,\u001b[0m \u001b[0maxis\u001b[0m\u001b[1;33m=\u001b[0m\u001b[1;36m1\u001b[0m\u001b[1;33m)\u001b[0m\u001b[1;33m\u001b[0m\u001b[1;33m\u001b[0m\u001b[0m\n\u001b[0m\u001b[0;32m    232\u001b[0m             \u001b[1;32melse\u001b[0m\u001b[1;33m:\u001b[0m\u001b[1;33m\u001b[0m\u001b[1;33m\u001b[0m\u001b[0m\n\u001b[0;32m    233\u001b[0m                 \u001b[1;31m# TODO(EA2D): special-casing not needed with 2D EAs\u001b[0m\u001b[1;33m\u001b[0m\u001b[1;33m\u001b[0m\u001b[0m\n",
      "\u001b[1;32m<__array_function__ internals>\u001b[0m in \u001b[0;36mconcatenate\u001b[1;34m(*args, **kwargs)\u001b[0m\n",
      "\u001b[1;31mKeyboardInterrupt\u001b[0m: "
     ]
    }
   ],
   "source": [
    "import generator_sentence"
   ]
  },
  {
   "cell_type": "code",
   "execution_count": null,
   "id": "e571701f",
   "metadata": {},
   "outputs": [],
   "source": []
  }
 ],
 "metadata": {
  "kernelspec": {
   "display_name": "bigdata",
   "language": "python",
   "name": "bigdata"
  },
  "language_info": {
   "codemirror_mode": {
    "name": "ipython",
    "version": 3
   },
   "file_extension": ".py",
   "mimetype": "text/x-python",
   "name": "python",
   "nbconvert_exporter": "python",
   "pygments_lexer": "ipython3",
   "version": "3.9.7"
  }
 },
 "nbformat": 4,
 "nbformat_minor": 5
}
